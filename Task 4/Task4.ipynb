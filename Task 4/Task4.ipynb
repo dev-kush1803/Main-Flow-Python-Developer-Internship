{
 "cells": [
  {
   "cell_type": "markdown",
   "metadata": {},
   "source": [
    "### Code 1 - Find Missing Number"
   ]
  },
  {
   "cell_type": "code",
   "execution_count": 1,
   "metadata": {},
   "outputs": [
    {
     "name": "stdout",
     "output_type": "stream",
     "text": [
      "Missing Number: 3\n"
     ]
    }
   ],
   "source": [
    "def find_missing_number(arr, n):\n",
    "    expected_sum = (n * (n + 1)) // 2  \n",
    "    actual_sum = sum(arr)  \n",
    "    return expected_sum - actual_sum  \n",
    "\n",
    "# Example Usage\n",
    "arr = [1, 2, 4, 5, 6]  \n",
    "n = len(arr) + 1  \n",
    "print(\"Missing Number:\", find_missing_number(arr, n))\n"
   ]
  },
  {
   "cell_type": "markdown",
   "metadata": {},
   "source": [
    "### Code 2 - Check Balanced Parentheses"
   ]
  },
  {
   "cell_type": "code",
   "execution_count": 2,
   "metadata": {},
   "outputs": [
    {
     "name": "stdout",
     "output_type": "stream",
     "text": [
      "Balanced: True\n",
      "Balanced: False\n"
     ]
    }
   ],
   "source": [
    "def is_balanced(s):\n",
    "    stack = []\n",
    "    pairs = {')': '(', '}': '{', ']': '['}\n",
    "\n",
    "    for char in s:\n",
    "        if char in \"({[\":\n",
    "            stack.append(char)  \n",
    "        elif char in \")}]\":\n",
    "            if not stack or stack.pop() != pairs[char]:  \n",
    "                return False\n",
    "\n",
    "    return len(stack) == 0  \n",
    "\n",
    "# Example Usage\n",
    "expression = \"{[()()]}\"  \n",
    "print(\"Balanced:\", is_balanced(expression))\n",
    "\n",
    "expression = \"{[(])}\"  \n",
    "print(\"Balanced:\", is_balanced(expression))\n"
   ]
  },
  {
   "cell_type": "markdown",
   "metadata": {},
   "source": [
    "### Code 3 - Longest Word in a Sentence"
   ]
  },
  {
   "cell_type": "code",
   "execution_count": 3,
   "metadata": {},
   "outputs": [
    {
     "name": "stdout",
     "output_type": "stream",
     "text": [
      "Longest Word: quick\n"
     ]
    }
   ],
   "source": [
    "def longest_word(sentence):\n",
    "    words = sentence.split()  \n",
    "    longest = \"\"  \n",
    "\n",
    "    for word in words:\n",
    "        if len(word) > len(longest):  \n",
    "            longest = word\n",
    "\n",
    "    return longest\n",
    "\n",
    "# Example Usage\n",
    "sentence = \"The quick brown fox jumps over the lazy dog\"\n",
    "print(\"Longest Word:\", longest_word(sentence))  \n"
   ]
  },
  {
   "cell_type": "markdown",
   "metadata": {},
   "source": [
    "### Code 4 - Count Words in a Sentence"
   ]
  },
  {
   "cell_type": "code",
   "execution_count": 4,
   "metadata": {},
   "outputs": [
    {
     "name": "stdout",
     "output_type": "stream",
     "text": [
      "Word Count: 9\n"
     ]
    }
   ],
   "source": [
    "def count_words(sentence):\n",
    "    words = sentence.split()  \n",
    "    return len(words)  \n",
    "\n",
    "# Example Usage\n",
    "sentence = \"The quick brown fox jumps over the lazy dog\"\n",
    "print(\"Word Count:\", count_words(sentence))  \n"
   ]
  },
  {
   "cell_type": "markdown",
   "metadata": {},
   "source": [
    "### Code 5 - Check Pythagorean Triplet"
   ]
  },
  {
   "cell_type": "code",
   "execution_count": 5,
   "metadata": {},
   "outputs": [
    {
     "name": "stdout",
     "output_type": "stream",
     "text": [
      "Is Pythagorean Triplet: True\n"
     ]
    }
   ],
   "source": [
    "def is_pythagorean_triplet(a, b, c):\n",
    "    a, b, c = sorted([a, b, c])\n",
    "    return a * a + b * b == c * c\n",
    "\n",
    "# Example Usage\n",
    "a, b, c = 3, 4, 5\n",
    "print(\"Is Pythagorean Triplet:\", is_pythagorean_triplet(a, b, c))  \n"
   ]
  },
  {
   "cell_type": "markdown",
   "metadata": {},
   "source": [
    "### Code 6 - Bubble Sort"
   ]
  },
  {
   "cell_type": "code",
   "execution_count": 6,
   "metadata": {},
   "outputs": [
    {
     "name": "stdout",
     "output_type": "stream",
     "text": [
      "Sorted List: [11, 12, 22, 25, 34, 64, 90]\n"
     ]
    }
   ],
   "source": [
    "def bubble_sort(arr):\n",
    "    n = len(arr)\n",
    "    for i in range(n):\n",
    "        for j in range(n - 1 - i):\n",
    "            if arr[j] > arr[j + 1]:  \n",
    "                arr[j], arr[j + 1] = arr[j + 1], arr[j]\n",
    "    return arr\n",
    "\n",
    "# Example Usage\n",
    "arr = [64, 34, 25, 12, 22, 11, 90]\n",
    "print(\"Sorted List:\", bubble_sort(arr))  \n"
   ]
  },
  {
   "cell_type": "markdown",
   "metadata": {},
   "source": [
    "### Code 7 - Binary Search"
   ]
  },
  {
   "cell_type": "code",
   "execution_count": 7,
   "metadata": {},
   "outputs": [
    {
     "name": "stdout",
     "output_type": "stream",
     "text": [
      "Index of target: 3\n"
     ]
    }
   ],
   "source": [
    "def binary_search(arr, target):\n",
    "    left, right = 0, len(arr) - 1\n",
    "    while left <= right:\n",
    "        mid = (left + right) // 2\n",
    "        if arr[mid] == target:\n",
    "            return mid  \n",
    "        elif arr[mid] < target:\n",
    "            left = mid + 1  \n",
    "        else:\n",
    "            right = mid - 1  \n",
    "    return -1  \n",
    "\n",
    "# Example Usage\n",
    "arr = [2, 3, 4, 10, 40]\n",
    "target = 10\n",
    "print(\"Index of target:\", binary_search(arr, target))  \n"
   ]
  },
  {
   "cell_type": "markdown",
   "metadata": {},
   "source": [
    "### Code 8 - Find Subarray with Given Sum"
   ]
  },
  {
   "cell_type": "code",
   "execution_count": 8,
   "metadata": {},
   "outputs": [
    {
     "name": "stdout",
     "output_type": "stream",
     "text": [
      "Subarray indices: (2, 4)\n"
     ]
    }
   ],
   "source": [
    "def find_subarray_with_sum(arr, S):\n",
    "    left, current_sum = 0, 0\n",
    "\n",
    "    for right in range(len(arr)):\n",
    "        current_sum += arr[right]\n",
    "\n",
    "        while current_sum > S and left <= right:\n",
    "            current_sum -= arr[left]\n",
    "            left += 1\n",
    "\n",
    "        if current_sum == S:\n",
    "            return (left, right)  \n",
    "\n",
    "    return -1  \n",
    "\n",
    "# Example Usage\n",
    "arr = [1, 4, 20, 3, 10, 5]\n",
    "S = 33\n",
    "print(\"Subarray indices:\", find_subarray_with_sum(arr, S))  \n"
   ]
  },
  {
   "cell_type": "markdown",
   "metadata": {},
   "source": [
    "### Code 9 - Log Analysis System "
   ]
  },
  {
   "cell_type": "code",
   "execution_count": 10,
   "metadata": {},
   "outputs": [
    {
     "name": "stdout",
     "output_type": "stream",
     "text": [
      "Error: File not found!\n"
     ]
    }
   ],
   "source": [
    "def analyze_logs(file_path):\n",
    "    ip_count = {}\n",
    "    url_count = {}\n",
    "    status_code_count = {}\n",
    "\n",
    "    try:\n",
    "        with open(file_path, 'r') as log_file:\n",
    "            for line in log_file:\n",
    "                parts = line.split()\n",
    "                if len(parts) < 3:\n",
    "                    continue  \n",
    "                ip = parts[0]  \n",
    "                status_code = parts[-2]  \n",
    "                url = parts[-4]  \n",
    "\n",
    "                ip_count[ip] = ip_count.get(ip, 0) + 1\n",
    "                url_count[url] = url_count.get(url, 0) + 1\n",
    "                status_code_count[status_code] = status_code_count.get(status_code, 0) + 1\n",
    "\n",
    "        print(\"Most Frequent IPs:\", sorted(ip_count.items(), key=lambda x: x[1], reverse=True)[:5])\n",
    "        print(\"Most Accessed URLs:\", sorted(url_count.items(), key=lambda x: x[1], reverse=True)[:5])\n",
    "        print(\"Response Code Count:\", status_code_count)\n",
    "\n",
    "    except FileNotFoundError:\n",
    "        print(\"Error: File not found!\")\n",
    "\n",
    "# Example Usage\n",
    "log_file_path = \"server.log\"  \n",
    "analyze_logs(log_file_path)\n"
   ]
  },
  {
   "cell_type": "code",
   "execution_count": null,
   "metadata": {},
   "outputs": [],
   "source": []
  },
  {
   "cell_type": "code",
   "execution_count": null,
   "metadata": {},
   "outputs": [],
   "source": []
  }
 ],
 "metadata": {
  "kernelspec": {
   "display_name": "Python 3",
   "language": "python",
   "name": "python3"
  },
  "language_info": {
   "codemirror_mode": {
    "name": "ipython",
    "version": 3
   },
   "file_extension": ".py",
   "mimetype": "text/x-python",
   "name": "python",
   "nbconvert_exporter": "python",
   "pygments_lexer": "ipython3",
   "version": "3.11.0"
  }
 },
 "nbformat": 4,
 "nbformat_minor": 2
}
