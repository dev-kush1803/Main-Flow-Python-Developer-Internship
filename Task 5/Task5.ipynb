{
 "cells": [
  {
   "cell_type": "markdown",
   "metadata": {},
   "source": [
    "### Code 1 - Find All Permutations of a String"
   ]
  },
  {
   "cell_type": "code",
   "execution_count": 1,
   "metadata": {},
   "outputs": [
    {
     "name": "stdout",
     "output_type": "stream",
     "text": [
      "one\n",
      "oen\n",
      "noe\n",
      "neo\n",
      "eno\n",
      "eon\n"
     ]
    }
   ],
   "source": [
    "def permute(s, l, r):\n",
    "    if l == r:\n",
    "        print(\"\".join(s))\n",
    "    else:\n",
    "        for i in range(l, r + 1):\n",
    "            s[l], s[i] = s[i], s[l]  \n",
    "            permute(s, l + 1, r)  \n",
    "            s[l], s[i] = s[i], s[l]  \n",
    "\n",
    "# Example usage\n",
    "string = input(\"Enter a string: \")\n",
    "permute(list(string), 0, len(string) - 1)\n"
   ]
  },
  {
   "cell_type": "markdown",
   "metadata": {},
   "source": [
    "### Code 2 - N-th Fibonacci Number (Dynamic Programming)"
   ]
  },
  {
   "cell_type": "code",
   "execution_count": 3,
   "metadata": {},
   "outputs": [
    {
     "name": "stdout",
     "output_type": "stream",
     "text": [
      "The 18-th Fibonacci number is: 2584\n"
     ]
    }
   ],
   "source": [
    "def fibonacci(n):\n",
    "    if n <= 0:\n",
    "        return 0\n",
    "    elif n == 1:\n",
    "        return 1\n",
    "    \n",
    "    fib = [0] * (n + 1)  \n",
    "    fib[1] = 1\n",
    "    \n",
    "    for i in range(2, n + 1):\n",
    "        fib[i] = fib[i - 1] + fib[i - 2]  \n",
    "    \n",
    "    return fib[n]\n",
    "\n",
    "# Example usage\n",
    "n = int(input(\"Enter the value of n: \"))\n",
    "print(f\"The {n}-th Fibonacci number is: {fibonacci(n)}\")\n"
   ]
  },
  {
   "cell_type": "markdown",
   "metadata": {},
   "source": [
    "### Code 3 - Find Duplicates in a List"
   ]
  },
  {
   "cell_type": "code",
   "execution_count": 11,
   "metadata": {},
   "outputs": [
    {
     "name": "stdout",
     "output_type": "stream",
     "text": [
      "Duplicate elements: [32]\n"
     ]
    }
   ],
   "source": [
    "def find_duplicates(lst):\n",
    "    duplicates = []\n",
    "    seen = {}\n",
    "\n",
    "    for num in lst:\n",
    "        if num in seen:\n",
    "            if seen[num] == 1:  \n",
    "                duplicates.append(num)\n",
    "            seen[num] += 1\n",
    "        else:\n",
    "            seen[num] = 1\n",
    "\n",
    "    return duplicates\n",
    "\n",
    "# Example usage\n",
    "lst = list(map(int, input(\"Enter numbers separated by space: \").split()))\n",
    "print(\"Duplicate elements:\", find_duplicates(lst))\n"
   ]
  },
  {
   "cell_type": "markdown",
   "metadata": {},
   "source": [
    "### Code 4 - Longest Increasing Subsequence (LIS)"
   ]
  },
  {
   "cell_type": "code",
   "execution_count": 7,
   "metadata": {},
   "outputs": [
    {
     "name": "stdout",
     "output_type": "stream",
     "text": [
      "Length of Longest Increasing Subsequence: 2\n"
     ]
    }
   ],
   "source": [
    "def longest_increasing_subsequence(arr):\n",
    "    n = len(arr)\n",
    "    if n == 0:\n",
    "        return 0\n",
    "\n",
    "    lis = [1] * n  \n",
    "\n",
    "    for i in range(1, n):\n",
    "        for j in range(i):\n",
    "            if arr[i] > arr[j]:  \n",
    "                lis[i] = max(lis[i], lis[j] + 1)\n",
    "\n",
    "    return max(lis)  \n",
    "\n",
    "# Example usage\n",
    "arr = list(map(int, input(\"Enter numbers separated by space: \").split()))\n",
    "print(\"Length of Longest Increasing Subsequence:\", longest_increasing_subsequence(arr))\n"
   ]
  },
  {
   "cell_type": "markdown",
   "metadata": {},
   "source": [
    "### Code 5 -  Find K Largest Elements"
   ]
  },
  {
   "cell_type": "code",
   "execution_count": 10,
   "metadata": {},
   "outputs": [
    {
     "name": "stdout",
     "output_type": "stream",
     "text": [
      "K largest elements: [342, 324, 56]\n"
     ]
    }
   ],
   "source": [
    "def k_largest_elements(arr, k):\n",
    "    n = len(arr)\n",
    "    if k > n:\n",
    "        return \"K should be less than or equal to the number of elements\"\n",
    "    \n",
    "    for i in range(k):\n",
    "        max_index = i\n",
    "        for j in range(i + 1, n):\n",
    "            if arr[j] > arr[max_index]:\n",
    "                max_index = j\n",
    "        arr[i], arr[max_index] = arr[max_index], arr[i]  \n",
    "\n",
    "    return arr[:k]  \n",
    "\n",
    "# Example usage\n",
    "arr = list(map(int, input(\"Enter numbers separated by space: \").split()))\n",
    "k = int(input(\"Enter value of K: \"))\n",
    "print(\"K largest elements:\", k_largest_elements(arr, k))\n"
   ]
  },
  {
   "cell_type": "markdown",
   "metadata": {},
   "source": [
    "### Code 6 - Rotate Matrix"
   ]
  },
  {
   "cell_type": "code",
   "execution_count": 14,
   "metadata": {},
   "outputs": [
    {
     "name": "stdout",
     "output_type": "stream",
     "text": [
      "Enter matrix row-wise:\n",
      "Rotated Matrix:\n",
      "12 2 2\n",
      "432 34 2\n",
      "2 2 1\n"
     ]
    }
   ],
   "source": [
    "def rotate_matrix(matrix):\n",
    "    n = len(matrix)\n",
    "\n",
    "    for i in range(n):\n",
    "        for j in range(i+1, n):\n",
    "            matrix[i][j], matrix[j][i] = matrix[j][i], matrix[i][j]\n",
    "\n",
    "    for row in matrix:\n",
    "        left, right = 0, n - 1\n",
    "        while left < right:\n",
    "            row[left], row[right] = row[right], row[left]\n",
    "            left += 1\n",
    "            right -= 1\n",
    "\n",
    "    return matrix\n",
    "\n",
    "# Example usage\n",
    "n = int(input(\"Enter matrix size (n x n): \"))\n",
    "matrix = []\n",
    "print(\"Enter matrix row-wise:\")\n",
    "for _ in range(n):\n",
    "    matrix.append(list(map(int, input().split())))\n",
    "\n",
    "rotated_matrix = rotate_matrix(matrix)\n",
    "\n",
    "print(\"Rotated Matrix:\")\n",
    "for row in rotated_matrix:\n",
    "    print(*row)\n"
   ]
  },
  {
   "cell_type": "markdown",
   "metadata": {},
   "source": [
    "### Code 7 - Sudoku Validator"
   ]
  },
  {
   "cell_type": "code",
   "execution_count": 2,
   "metadata": {},
   "outputs": [
    {
     "name": "stdout",
     "output_type": "stream",
     "text": [
      "Enter the 9x9 Sudoku board row-wise (use 0 for empty cells):\n",
      "Valid Sudoku Board: True\n"
     ]
    }
   ],
   "source": [
    "def is_valid_sudoku(board):\n",
    "    def is_valid_group(group):\n",
    "        seen = set()\n",
    "        for num in group:\n",
    "            if num != 0:  \n",
    "                if num in seen:\n",
    "                    return False\n",
    "                seen.add(num)\n",
    "        return True\n",
    "\n",
    "    for row in board:\n",
    "        if not is_valid_group(row):\n",
    "            return False\n",
    "\n",
    "    for col in range(9):\n",
    "        if not is_valid_group([board[row][col] for row in range(9)]):\n",
    "            return False\n",
    "\n",
    "    for i in range(0, 9, 3):\n",
    "        for j in range(0, 9, 3):\n",
    "            subgrid = []\n",
    "            for x in range(3):\n",
    "                for y in range(3):\n",
    "                    subgrid.append(board[i + x][j + y])\n",
    "            if not is_valid_group(subgrid):\n",
    "                return False\n",
    "\n",
    "    return True\n",
    "\n",
    "# Example Usage:\n",
    "sudoku_board = []\n",
    "print(\"Enter the 9x9 Sudoku board row-wise (use 0 for empty cells):\")\n",
    "for _ in range(9):\n",
    "    sudoku_board.append(list(map(int, input().split())))\n",
    "\n",
    "print(\"Valid Sudoku Board:\", is_valid_sudoku(sudoku_board))\n"
   ]
  },
  {
   "cell_type": "markdown",
   "metadata": {},
   "source": [
    "### Code 8 - Virtual Stock Market Simulator"
   ]
  },
  {
   "cell_type": "code",
   "execution_count": 4,
   "metadata": {},
   "outputs": [
    {
     "name": "stdout",
     "output_type": "stream",
     "text": [
      "\n",
      "Stock Prices:\n",
      "APPLE: $150\n",
      "GOOGLE: $2800\n",
      "TESLA: $750\n",
      "Bought 500 shares of TESLA for $375000\n",
      "\n",
      "Stock Prices:\n",
      "APPLE: $150\n",
      "GOOGLE: $2807\n",
      "TESLA: $752\n",
      "Bought 100 shares of APPLE for $15000\n",
      "\n",
      "Stock Prices:\n",
      "APPLE: $141\n",
      "GOOGLE: $2810\n",
      "TESLA: $762\n",
      "Sold 499 shares of TESLA for $380238\n",
      "\n",
      "Stock Prices:\n",
      "APPLE: $131\n",
      "GOOGLE: $2819\n",
      "TESLA: $757\n"
     ]
    }
   ],
   "source": [
    "import random\n",
    "\n",
    "class StockMarket:\n",
    "    def __init__(self):\n",
    "        self.stocks = {\"APPLE\": 150, \"GOOGLE\": 2800, \"TESLA\": 750}\n",
    "        self.portfolio = {}\n",
    "\n",
    "    def show_market(self):\n",
    "        print(\"\\nStock Prices:\")\n",
    "        for stock, price in self.stocks.items():\n",
    "            print(f\"{stock}: ${price}\")\n",
    "\n",
    "    def buy_stock(self, stock, quantity):\n",
    "        if stock in self.stocks:\n",
    "            cost = self.stocks[stock] * quantity\n",
    "            self.portfolio[stock] = self.portfolio.get(stock, 0) + quantity\n",
    "            print(f\"Bought {quantity} shares of {stock} for ${cost}\")\n",
    "        else:\n",
    "            print(\"Invalid Stock!\")\n",
    "\n",
    "    def sell_stock(self, stock, quantity):\n",
    "        if stock in self.portfolio and self.portfolio[stock] >= quantity:\n",
    "            revenue = self.stocks[stock] * quantity\n",
    "            self.portfolio[stock] -= quantity\n",
    "            print(f\"Sold {quantity} shares of {stock} for ${revenue}\")\n",
    "        else:\n",
    "            print(\"Not enough shares to sell!\")\n",
    "\n",
    "    def update_prices(self):\n",
    "        for stock in self.stocks:\n",
    "            self.stocks[stock] += random.randint(-10, 10)  \n",
    "\n",
    "market = StockMarket()\n",
    "while True:\n",
    "    market.show_market()\n",
    "    action = input(\"\\nBuy/Sell/Exit? \").lower()\n",
    "    if action == \"exit\":\n",
    "        break\n",
    "    elif action in [\"buy\", \"sell\"]:\n",
    "        stock = input(\"Enter stock symbol: \").upper()\n",
    "        qty = int(input(\"Enter quantity: \"))\n",
    "        if action == \"buy\":\n",
    "            market.buy_stock(stock, qty)\n",
    "        else:\n",
    "            market.sell_stock(stock, qty)\n",
    "    market.update_prices()\n"
   ]
  }
 ],
 "metadata": {
  "kernelspec": {
   "display_name": "Python 3",
   "language": "python",
   "name": "python3"
  },
  "language_info": {
   "codemirror_mode": {
    "name": "ipython",
    "version": 3
   },
   "file_extension": ".py",
   "mimetype": "text/x-python",
   "name": "python",
   "nbconvert_exporter": "python",
   "pygments_lexer": "ipython3",
   "version": "3.11.0"
  }
 },
 "nbformat": 4,
 "nbformat_minor": 2
}
