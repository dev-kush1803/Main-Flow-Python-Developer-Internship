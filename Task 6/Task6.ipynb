{
 "cells": [
  {
   "cell_type": "markdown",
   "metadata": {},
   "source": [
    "## Code 1 :  Sudoku Validator"
   ]
  },
  {
   "cell_type": "code",
   "execution_count": 1,
   "metadata": {},
   "outputs": [
    {
     "name": "stdout",
     "output_type": "stream",
     "text": [
      "True\n"
     ]
    }
   ],
   "source": [
    "def is_valid_sudoku(board):\n",
    "    def is_valid_unit(unit):\n",
    "        nums = [num for num in unit if num != \".\"]\n",
    "        return len(nums) == len(set(nums))\n",
    "\n",
    "    # Check rows and columns\n",
    "    for i in range(9):\n",
    "        if not is_valid_unit(board[i]) or not is_valid_unit([board[j][i] for j in range(9)]):\n",
    "            return False\n",
    "\n",
    "    # Check 3x3 subgrids\n",
    "    for i in range(0, 9, 3):\n",
    "        for j in range(0, 9, 3):\n",
    "            subgrid = [board[x][y] for x in range(i, i + 3) for y in range(j, j + 3)]\n",
    "            if not is_valid_unit(subgrid):\n",
    "                return False\n",
    "\n",
    "    return True\n",
    "\n",
    "# Example Sudoku board ('.' represents an empty cell)\n",
    "sudoku_board = [\n",
    "    [\"5\", \"3\", \".\", \".\", \"7\", \".\", \".\", \".\", \".\"],\n",
    "    [\"6\", \".\", \".\", \"1\", \"9\", \"5\", \".\", \".\", \".\"],\n",
    "    [\".\", \"9\", \"8\", \".\", \".\", \".\", \".\", \"6\", \".\"],\n",
    "    [\"8\", \".\", \".\", \".\", \"6\", \".\", \".\", \".\", \"3\"],\n",
    "    [\"4\", \".\", \".\", \"8\", \".\", \"3\", \".\", \".\", \"1\"],\n",
    "    [\"7\", \".\", \".\", \".\", \"2\", \".\", \".\", \".\", \"6\"],\n",
    "    [\".\", \"6\", \".\", \".\", \".\", \".\", \"2\", \"8\", \".\"],\n",
    "    [\".\", \".\", \".\", \"4\", \"1\", \"9\", \".\", \".\", \"5\"],\n",
    "    [\".\", \".\", \".\", \".\", \"8\", \".\", \".\", \"7\", \"9\"]\n",
    "]\n",
    "\n",
    "print(is_valid_sudoku(sudoku_board))  # Output: True\n"
   ]
  },
  {
   "cell_type": "markdown",
   "metadata": {},
   "source": [
    "## Code 2 : Word Frequency in Text"
   ]
  },
  {
   "cell_type": "code",
   "execution_count": 2,
   "metadata": {},
   "outputs": [
    {
     "name": "stdout",
     "output_type": "stream",
     "text": [
      "{'hello': 2, 'world': 1, 'everyone': 1, 'this': 1, 'is': 1, 'a': 2, 'test': 2, 'simple': 1}\n"
     ]
    }
   ],
   "source": [
    "def word_frequency(text):\n",
    "    words = text.lower().split()  # Convert to lowercase and split into words\n",
    "    freq = {}\n",
    "    \n",
    "    for word in words:\n",
    "        word = word.strip(\".,!?()[]{}:;\\\"'\")  # Remove punctuation\n",
    "        if word:\n",
    "            freq[word] = freq.get(word, 0) + 1\n",
    "    \n",
    "    return freq\n",
    "\n",
    "# Example usage\n",
    "text = \"Hello world! Hello everyone. This is a test, a simple test.\"\n",
    "print(word_frequency(text))\n"
   ]
  },
  {
   "cell_type": "markdown",
   "metadata": {},
   "source": [
    "## Code 3 : Knapsack Problem (0/1)\n"
   ]
  },
  {
   "cell_type": "code",
   "execution_count": 3,
   "metadata": {},
   "outputs": [
    {
     "name": "stdout",
     "output_type": "stream",
     "text": [
      "7\n"
     ]
    }
   ],
   "source": [
    "def knapsack(weights, values, capacity):\n",
    "    n = len(weights)\n",
    "    dp = [[0] * (capacity + 1) for _ in range(n + 1)]\n",
    "\n",
    "    for i in range(1, n + 1):\n",
    "        for w in range(capacity + 1):\n",
    "            if weights[i - 1] <= w:\n",
    "                dp[i][w] = max(dp[i - 1][w], values[i - 1] + dp[i - 1][w - weights[i - 1]])\n",
    "            else:\n",
    "                dp[i][w] = dp[i - 1][w]\n",
    "\n",
    "    return dp[n][capacity]\n",
    "\n",
    "# Example usage\n",
    "weights = [2, 3, 4, 5]\n",
    "values = [3, 4, 5, 6]\n",
    "capacity = 5\n",
    "print(knapsack(weights, values, capacity))  # Output: 7\n"
   ]
  },
  {
   "cell_type": "markdown",
   "metadata": {},
   "source": [
    "## Code 4 : Merge Intervals"
   ]
  },
  {
   "cell_type": "code",
   "execution_count": 4,
   "metadata": {},
   "outputs": [
    {
     "name": "stdout",
     "output_type": "stream",
     "text": [
      "[[1, 6], [8, 10], [15, 18]]\n"
     ]
    }
   ],
   "source": [
    "def merge_intervals(intervals):\n",
    "    if not intervals:\n",
    "        return []\n",
    "\n",
    "    intervals.sort()  # Sort intervals by start time\n",
    "    merged = [intervals[0]]\n",
    "\n",
    "    for start, end in intervals[1:]:\n",
    "        last_end = merged[-1][1]\n",
    "\n",
    "        if start <= last_end:  \n",
    "            merged[-1][1] = max(last_end, end)  # Merge overlapping intervals\n",
    "        else:\n",
    "            merged.append([start, end])  # Add non-overlapping interval\n",
    "\n",
    "    return merged\n",
    "\n",
    "# Example usage\n",
    "intervals = [[1, 3], [2, 6], [8, 10], [15, 18]]\n",
    "print(merge_intervals(intervals))  # Output: [[1, 6], [8, 10], [15, 18]]\n"
   ]
  },
  {
   "cell_type": "markdown",
   "metadata": {},
   "source": [
    "## Code 5 : Find the Median of Two Sorted Arrays\n"
   ]
  },
  {
   "cell_type": "code",
   "execution_count": 5,
   "metadata": {},
   "outputs": [
    {
     "name": "stdout",
     "output_type": "stream",
     "text": [
      "2\n",
      "2.5\n"
     ]
    }
   ],
   "source": [
    "def find_median_sorted_arrays(nums1, nums2):\n",
    "    merged = sorted(nums1 + nums2)  # Merge and sort\n",
    "    n = len(merged)\n",
    "    \n",
    "    if n % 2 == 1:\n",
    "        return merged[n // 2]  # Odd length, return middle element\n",
    "    else:\n",
    "        return (merged[n // 2 - 1] + merged[n // 2]) / 2  # Even length, return avg of middle two\n",
    "\n",
    "# Example usage\n",
    "nums1 = [1, 3]\n",
    "nums2 = [2]\n",
    "print(find_median_sorted_arrays(nums1, nums2))  # Output: 2.0\n",
    "\n",
    "nums1 = [1, 2]\n",
    "nums2 = [3, 4]\n",
    "print(find_median_sorted_arrays(nums1, nums2))  # Output: 2.5\n"
   ]
  },
  {
   "cell_type": "markdown",
   "metadata": {},
   "source": [
    "## Code 6 : Maximal Rectangle in Binary Matrix"
   ]
  },
  {
   "cell_type": "code",
   "execution_count": 6,
   "metadata": {},
   "outputs": [
    {
     "name": "stdout",
     "output_type": "stream",
     "text": [
      "6\n"
     ]
    }
   ],
   "source": [
    "def largest_rectangle_area(heights):\n",
    "    stack, max_area = [], 0\n",
    "    heights.append(0)  # Sentinel value to ensure stack gets processed\n",
    "\n",
    "    for i, h in enumerate(heights):\n",
    "        while stack and heights[stack[-1]] > h:\n",
    "            height = heights[stack.pop()]\n",
    "            width = i if not stack else i - stack[-1] - 1\n",
    "            max_area = max(max_area, height * width)\n",
    "        stack.append(i)\n",
    "\n",
    "    return max_area\n",
    "\n",
    "def maximal_rectangle(matrix):\n",
    "    if not matrix or not matrix[0]:\n",
    "        return 0\n",
    "\n",
    "    rows, cols = len(matrix), len(matrix[0])\n",
    "    heights = [0] * cols\n",
    "    max_area = 0\n",
    "\n",
    "    for row in matrix:\n",
    "        for j in range(cols):\n",
    "            heights[j] = heights[j] + 1 if row[j] == \"1\" else 0\n",
    "        \n",
    "        max_area = max(max_area, largest_rectangle_area(heights))\n",
    "\n",
    "    return max_area\n",
    "\n",
    "# Example usage\n",
    "matrix = [\n",
    "    [\"1\", \"0\", \"1\", \"0\", \"0\"],\n",
    "    [\"1\", \"0\", \"1\", \"1\", \"1\"],\n",
    "    [\"1\", \"1\", \"1\", \"1\", \"1\"],\n",
    "    [\"1\", \"0\", \"0\", \"1\", \"0\"]\n",
    "]\n",
    "\n",
    "print(maximal_rectangle(matrix))  # Output: 6\n"
   ]
  },
  {
   "cell_type": "markdown",
   "metadata": {},
   "source": [
    "## Code 7 : Largest Sum Contiguous Subarray (Kadane's Algorithm)"
   ]
  },
  {
   "cell_type": "code",
   "execution_count": 7,
   "metadata": {},
   "outputs": [
    {
     "name": "stdout",
     "output_type": "stream",
     "text": [
      "6\n"
     ]
    }
   ],
   "source": [
    "def max_subarray_sum(arr):\n",
    "    max_sum = float('-inf')\n",
    "    current_sum = 0\n",
    "\n",
    "    for num in arr:\n",
    "        current_sum = max(num, current_sum + num)\n",
    "        max_sum = max(max_sum, current_sum)\n",
    "\n",
    "    return max_sum\n",
    "\n",
    "# Example usage\n",
    "arr = [-2, 1, -3, 4, -1, 2, 1, -5, 4]\n",
    "print(max_subarray_sum(arr))  # Output: 6 (subarray: [4, -1, 2, 1])\n"
   ]
  },
  {
   "cell_type": "markdown",
   "metadata": {},
   "source": [
    "## Code 8 : Word Ladder Problem"
   ]
  },
  {
   "cell_type": "code",
   "execution_count": 8,
   "metadata": {},
   "outputs": [
    {
     "name": "stdout",
     "output_type": "stream",
     "text": [
      "5\n"
     ]
    }
   ],
   "source": [
    "from collections import deque\n",
    "\n",
    "def word_ladder_length(start, end, word_list):\n",
    "    word_set = set(word_list)  # Convert to set for O(1) lookups\n",
    "    if end not in word_set:\n",
    "        return 0\n",
    "\n",
    "    queue = deque([(start, 1)])  # (word, level)\n",
    "    \n",
    "    while queue:\n",
    "        word, level = queue.popleft()\n",
    "        \n",
    "        if word == end:\n",
    "            return level  # Found shortest transformation\n",
    "\n",
    "        for i in range(len(word)):\n",
    "            for c in 'abcdefghijklmnopqrstuvwxyz':\n",
    "                new_word = word[:i] + c + word[i+1:]\n",
    "                \n",
    "                if new_word in word_set:\n",
    "                    queue.append((new_word, level + 1))\n",
    "                    word_set.remove(new_word)  # Mark as visited\n",
    "    \n",
    "    return 0  # No transformation sequence found\n",
    "\n",
    "# Example usage\n",
    "start = \"hit\"\n",
    "end = \"cog\"\n",
    "word_list = [\"hot\", \"dot\", \"dog\", \"lot\", \"log\", \"cog\"]\n",
    "\n",
    "print(word_ladder_length(start, end, word_list))  # Output: 5 (hit → hot → dot → dog → cog)\n"
   ]
  },
  {
   "cell_type": "markdown",
   "metadata": {},
   "source": [
    "## Code 9 : Command-Line RPG Game"
   ]
  },
  {
   "cell_type": "code",
   "execution_count": 9,
   "metadata": {},
   "outputs": [
    {
     "name": "stdout",
     "output_type": "stream",
     "text": [
      "Welcome to the RPG Game!\n",
      "No saved game found. Starting a new game.\n",
      "\n",
      "1. Explore\n",
      "2. View Inventory\n",
      "3. Save Game\n",
      "4. Quit\n",
      "\n",
      "Exploring the world...\n",
      "You arrived at Haunted Cave.\n",
      "Nothing happened, but you found a Healing Potion!\n",
      "kush obtained: Healing Potion\n",
      "\n",
      "1. Explore\n",
      "2. View Inventory\n",
      "3. Save Game\n",
      "4. Quit\n",
      "Inventory: ['Healing Potion']\n",
      "\n",
      "1. Explore\n",
      "2. View Inventory\n",
      "3. Save Game\n",
      "4. Quit\n",
      "\n",
      "Exploring the world...\n",
      "You arrived at Haunted Cave.\n",
      "\n",
      "A wild Orc appears!\n",
      "\n",
      "Orc took 7 damage! Health: 23\n",
      "kush took 2 damage! Health: 98\n",
      "Orc took 7 damage! Health: 16\n",
      "kush took 2 damage! Health: 96\n",
      "Orc took 7 damage! Health: 9\n",
      "kush took 2 damage! Health: 94\n",
      "Orc took 7 damage! Health: 2\n",
      "kush took 2 damage! Health: 92\n",
      "Orc took 7 damage! Health: -5\n",
      "You defeated Orc!\n",
      "kush obtained: Gold Coin\n",
      "\n",
      "1. Explore\n",
      "2. View Inventory\n",
      "3. Save Game\n",
      "4. Quit\n",
      "Game saved!\n",
      "\n",
      "1. Explore\n",
      "2. View Inventory\n",
      "3. Save Game\n",
      "4. Quit\n",
      "Game saved!\n",
      "\n",
      "1. Explore\n",
      "2. View Inventory\n",
      "3. Save Game\n",
      "4. Quit\n",
      "Thanks for playing!\n"
     ]
    }
   ],
   "source": [
    "import json\n",
    "import random\n",
    "\n",
    "class Character:\n",
    "    def __init__(self, name, health, attack, defense):\n",
    "        self.name = name\n",
    "        self.health = health\n",
    "        self.attack = attack\n",
    "        self.defense = defense\n",
    "        self.inventory = []\n",
    "\n",
    "    def take_damage(self, damage):\n",
    "        damage_taken = max(0, damage - self.defense)\n",
    "        self.health -= damage_taken\n",
    "        print(f\"{self.name} took {damage_taken} damage! Health: {self.health}\")\n",
    "\n",
    "    def is_alive(self):\n",
    "        return self.health > 0\n",
    "\n",
    "    def add_item(self, item):\n",
    "        self.inventory.append(item)\n",
    "        print(f\"{self.name} obtained: {item}\")\n",
    "\n",
    "class Enemy(Character):\n",
    "    def __init__(self, name, health, attack, defense):\n",
    "        super().__init__(name, health, attack, defense)\n",
    "\n",
    "def battle(player, enemy):\n",
    "    print(f\"\\nA wild {enemy.name} appears!\\n\")\n",
    "    \n",
    "    while player.is_alive() and enemy.is_alive():\n",
    "        action = input(\"Do you want to (A)ttack or (R)un? \").lower()\n",
    "        \n",
    "        if action == 'a':\n",
    "            enemy.take_damage(player.attack)\n",
    "            if enemy.is_alive():\n",
    "                player.take_damage(enemy.attack)\n",
    "        elif action == 'r':\n",
    "            if random.random() > 0.5:\n",
    "                print(\"You escaped successfully!\")\n",
    "                return\n",
    "            else:\n",
    "                print(\"Escape failed! The enemy attacks!\")\n",
    "                player.take_damage(enemy.attack)\n",
    "        \n",
    "    if player.is_alive():\n",
    "        print(f\"You defeated {enemy.name}!\")\n",
    "        player.add_item(\"Gold Coin\")\n",
    "    else:\n",
    "        print(\"Game Over!\")\n",
    "\n",
    "def explore(player):\n",
    "    locations = [\"Dark Forest\", \"Haunted Cave\", \"Abandoned Village\"]\n",
    "    enemies = [\n",
    "        Enemy(\"Goblin\", 20, 5, 1),\n",
    "        Enemy(\"Skeleton\", 25, 6, 2),\n",
    "        Enemy(\"Orc\", 30, 7, 3)\n",
    "    ]\n",
    "\n",
    "    print(\"\\nExploring the world...\")\n",
    "    location = random.choice(locations)\n",
    "    print(f\"You arrived at {location}.\")\n",
    "\n",
    "    if random.random() > 0.5:\n",
    "        battle(player, random.choice(enemies))\n",
    "    else:\n",
    "        print(\"Nothing happened, but you found a Healing Potion!\")\n",
    "        player.add_item(\"Healing Potion\")\n",
    "\n",
    "def save_game(player):\n",
    "    with open(\"savegame.json\", \"w\") as file:\n",
    "        json.dump(player.__dict__, file)\n",
    "    print(\"Game saved!\")\n",
    "\n",
    "def load_game():\n",
    "    try:\n",
    "        with open(\"savegame.json\", \"r\") as file:\n",
    "            data = json.load(file)\n",
    "            player = Character(data[\"name\"], data[\"health\"], data[\"attack\"], data[\"defense\"])\n",
    "            player.inventory = data[\"inventory\"]\n",
    "            print(\"Game loaded successfully!\")\n",
    "            return player\n",
    "    except FileNotFoundError:\n",
    "        print(\"No saved game found. Starting a new game.\")\n",
    "        return None\n",
    "\n",
    "def main():\n",
    "    print(\"Welcome to the RPG Game!\")\n",
    "\n",
    "    player = load_game()\n",
    "    if not player:\n",
    "        name = input(\"Enter your character's name: \")\n",
    "        player = Character(name, 100, 10, 5)\n",
    "\n",
    "    while player.is_alive():\n",
    "        print(\"\\n1. Explore\\n2. View Inventory\\n3. Save Game\\n4. Quit\")\n",
    "        choice = input(\"Choose an action: \")\n",
    "\n",
    "        if choice == \"1\":\n",
    "            explore(player)\n",
    "        elif choice == \"2\":\n",
    "            print(f\"Inventory: {player.inventory}\")\n",
    "        elif choice == \"3\":\n",
    "            save_game(player)\n",
    "        elif choice == \"4\":\n",
    "            print(\"Thanks for playing!\")\n",
    "            break\n",
    "        else:\n",
    "            print(\"Invalid choice, try again.\")\n",
    "\n",
    "if __name__ == \"__main__\":\n",
    "    main()\n"
   ]
  },
  {
   "cell_type": "markdown",
   "metadata": {},
   "source": []
  }
 ],
 "metadata": {
  "kernelspec": {
   "display_name": "Python 3",
   "language": "python",
   "name": "python3"
  },
  "language_info": {
   "codemirror_mode": {
    "name": "ipython",
    "version": 3
   },
   "file_extension": ".py",
   "mimetype": "text/x-python",
   "name": "python",
   "nbconvert_exporter": "python",
   "pygments_lexer": "ipython3",
   "version": "3.11.0"
  }
 },
 "nbformat": 4,
 "nbformat_minor": 2
}
