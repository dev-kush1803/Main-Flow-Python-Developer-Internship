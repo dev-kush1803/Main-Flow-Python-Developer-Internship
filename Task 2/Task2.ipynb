{
 "cells": [
  {
   "cell_type": "markdown",
   "metadata": {},
   "source": [
    "## Code 1 - Prime Number"
   ]
  },
  {
   "cell_type": "code",
   "execution_count": 1,
   "metadata": {},
   "outputs": [
    {
     "name": "stdout",
     "output_type": "stream",
     "text": [
      "5 is prime: True\n"
     ]
    }
   ],
   "source": [
    "def is_prime(n):\n",
    "    if n < 2:\n",
    "        return False\n",
    "    if n in (2, 3):\n",
    "        return True\n",
    "    if n % 2 == 0 or n % 3 == 0:\n",
    "        return False\n",
    "    \n",
    "    i = 5\n",
    "    while i * i <= n:\n",
    "        if n % i == 0 or n % (i + 2) == 0:\n",
    "            return False\n",
    "        i += 6\n",
    "    return True\n",
    "\n",
    "# Example usage\n",
    "num = int(input(\"Enter a number: \"))\n",
    "print(f\"{num} is prime: {is_prime(num)}\")\n"
   ]
  },
  {
   "cell_type": "markdown",
   "metadata": {},
   "source": [
    "## Code 2 - Sum of Digits"
   ]
  },
  {
   "cell_type": "code",
   "execution_count": 5,
   "metadata": {},
   "outputs": [
    {
     "name": "stdout",
     "output_type": "stream",
     "text": [
      "Number is : 467535\n",
      "Sum of digits: 30\n"
     ]
    }
   ],
   "source": [
    "def sum_of_digits(n):\n",
    "    return sum(int(digit) for digit in str(n))\n",
    "\n",
    "# Example usage\n",
    "num = int(input(\"Enter a number: \"))\n",
    "print(f\"Number is : {num}\")\n",
    "print(f\"Sum of digits: {sum_of_digits(num)}\")\n"
   ]
  },
  {
   "cell_type": "markdown",
   "metadata": {},
   "source": [
    "## Code 3 - LCM and GCD"
   ]
  },
  {
   "cell_type": "code",
   "execution_count": 8,
   "metadata": {},
   "outputs": [
    {
     "name": "stdout",
     "output_type": "stream",
     "text": [
      "Numbers are: 234, 64\n",
      "GCD: 2\n",
      "LCM: 7488\n"
     ]
    }
   ],
   "source": [
    "def gcd(a, b):\n",
    "    while b:\n",
    "        a, b = b, a % b\n",
    "    return a\n",
    "\n",
    "def lcm(a, b):\n",
    "    return abs(a * b) // gcd(a, b)\n",
    "\n",
    "# Example usage\n",
    "a = int(input(\"Enter first number: \"))\n",
    "b = int(input(\"Enter second number: \"))\n",
    "print(f\"Numbers are: {a}, {b}\")\n",
    "print(f\"GCD: {gcd(a, b)}\")\n",
    "print(f\"LCM: {lcm(a, b)}\")\n"
   ]
  },
  {
   "cell_type": "markdown",
   "metadata": {},
   "source": [
    "## Code 4 -List Reversal"
   ]
  },
  {
   "cell_type": "code",
   "execution_count": 10,
   "metadata": {},
   "outputs": [
    {
     "name": "stdout",
     "output_type": "stream",
     "text": [
      "List: [3, 25, 7, 92, 67, 21]\n",
      "Reversed list: [21, 67, 92, 7, 25, 3]\n"
     ]
    }
   ],
   "source": [
    "def reverse_list(lst):\n",
    "    left, right = 0, len(lst) - 1\n",
    "    while left < right:\n",
    "        lst[left], lst[right] = lst[right], lst[left]\n",
    "        left += 1\n",
    "        right -= 1\n",
    "    return lst\n",
    "\n",
    "# Example usage\n",
    "lst = [int(x) for x in input(\"Enter numbers separated by space: \").split()]\n",
    "print(f\"List: {lst}\")\n",
    "print(f\"Reversed list: {reverse_list(lst)}\")\n"
   ]
  },
  {
   "cell_type": "markdown",
   "metadata": {},
   "source": [
    "## Code 5 - Sort a list"
   ]
  },
  {
   "cell_type": "code",
   "execution_count": 11,
   "metadata": {},
   "outputs": [
    {
     "name": "stdout",
     "output_type": "stream",
     "text": [
      "List: [35, 5764, 35, 17, 2, 6]\n",
      "Sorted list: [2, 6, 17, 35, 35, 5764]\n"
     ]
    }
   ],
   "source": [
    "def bubble_sort(lst):\n",
    "    n = len(lst)\n",
    "    for i in range(n - 1):\n",
    "        for j in range(n - 1 - i):\n",
    "            if lst[j] > lst[j + 1]:\n",
    "                lst[j], lst[j + 1] = lst[j + 1], lst[j]\n",
    "    return lst\n",
    "\n",
    "# Example usage\n",
    "lst = [int(x) for x in input(\"Enter numbers separated by space: \").split()]\n",
    "print(f\"List: {lst}\")\n",
    "print(f\"Sorted list: {bubble_sort(lst)}\")\n"
   ]
  },
  {
   "cell_type": "markdown",
   "metadata": {},
   "source": [
    "## Code 6 - Remove Duplicates"
   ]
  },
  {
   "cell_type": "code",
   "execution_count": 12,
   "metadata": {},
   "outputs": [
    {
     "name": "stdout",
     "output_type": "stream",
     "text": [
      "List: [26, 46, 27, 847, 5, 2, 6, 26, 3, 4, 5, 46]\n",
      "List without duplicates: [26, 46, 27, 847, 5, 2, 6, 3, 4]\n"
     ]
    }
   ],
   "source": [
    "def remove_duplicates(lst):\n",
    "    unique_list = []\n",
    "    for num in lst:\n",
    "        if num not in unique_list:\n",
    "            unique_list.append(num)\n",
    "    return unique_list\n",
    "\n",
    "# Example usage\n",
    "lst = [int(x) for x in input(\"Enter numbers separated by space: \").split()]\n",
    "print(f\"List: {lst}\")\n",
    "print(f\"List without duplicates: {remove_duplicates(lst)}\")\n"
   ]
  },
  {
   "cell_type": "markdown",
   "metadata": {},
   "source": [
    "## Code 7 - String Length"
   ]
  },
  {
   "cell_type": "code",
   "execution_count": 13,
   "metadata": {},
   "outputs": [
    {
     "name": "stdout",
     "output_type": "stream",
     "text": [
      "String: hello my name is kush\n",
      "Length of string: 21\n"
     ]
    }
   ],
   "source": [
    "def string_length(s):\n",
    "    count = 0\n",
    "    for _ in s:\n",
    "        count += 1\n",
    "    return count\n",
    "\n",
    "# Example usage\n",
    "s = input(\"Enter a string: \")\n",
    "print(f\"String: {s}\")\n",
    "print(f\"Length of string: {string_length(s)}\")\n"
   ]
  },
  {
   "cell_type": "markdown",
   "metadata": {},
   "source": [
    "## Code 8 - Count Vowels and Consonants"
   ]
  },
  {
   "cell_type": "code",
   "execution_count": 14,
   "metadata": {},
   "outputs": [
    {
     "name": "stdout",
     "output_type": "stream",
     "text": [
      "String: hello my name is kush lodhi i am 3rd year student\n",
      "Vowels: 14, Consonants: 24\n"
     ]
    }
   ],
   "source": [
    "def count_vowels_consonants(s):\n",
    "    vowels = {'a', 'e', 'i', 'o', 'u', 'A', 'E', 'I', 'O', 'U'}\n",
    "    vowel_count = consonant_count = 0\n",
    "    \n",
    "    for char in s:\n",
    "        if char.isalpha():\n",
    "            if char in vowels:\n",
    "                vowel_count += 1\n",
    "            else:\n",
    "                consonant_count += 1\n",
    "    \n",
    "    return vowel_count, consonant_count\n",
    "\n",
    "# Example usage\n",
    "s = input(\"Enter a string: \")\n",
    "vowels, consonants = count_vowels_consonants(s)\n",
    "print(f\"String: {s}\")\n",
    "print(f\"Vowels: {vowels}, Consonants: {consonants}\")\n"
   ]
  },
  {
   "cell_type": "markdown",
   "metadata": {},
   "source": [
    "## Code 9 - Maze Generator and Solver"
   ]
  },
  {
   "cell_type": "code",
   "execution_count": 15,
   "metadata": {},
   "outputs": [
    {
     "name": "stdout",
     "output_type": "stream",
     "text": [
      "Generated Maze:\n",
      "# # # # # # # # # # #\n",
      "# . # . . . . . . . #\n",
      "# . # # # # # # # . #\n",
      "# . . . . . . . # . #\n",
      "# # # # # # # . # . #\n",
      "# . # . . . . . # . #\n",
      "# . # . # # # # # . #\n",
      "# . # . # . . . . . #\n",
      "# . # . # . # # # . #\n",
      "# . . . . . # . . . #\n",
      "# # # # # # # # # # #\n",
      "\n",
      "Solved Maze:\n",
      "# # # # # # # # # # #\n",
      "# * # . . . . . . . #\n",
      "# * # # # # # # # . #\n",
      "# * * * * * * * # . #\n",
      "# # # # # # # * # . #\n",
      "# . # * * * * * # . #\n",
      "# . # * # # # # # . #\n",
      "# . # * # * * * * * #\n",
      "# . # * # * # # # * #\n",
      "# . . * * * # . . * #\n",
      "# # # # # # # # # # #\n"
     ]
    }
   ],
   "source": [
    "import random\n",
    "\n",
    "def generate_maze(rows, cols):\n",
    "    maze = [[1] * cols for _ in range(rows)]\n",
    "    \n",
    "    def carve_path(x, y):\n",
    "        directions = [(0, 2), (0, -2), (2, 0), (-2, 0)]\n",
    "        random.shuffle(directions)\n",
    "        for dx, dy in directions:\n",
    "            nx, ny = x + dx, y + dy\n",
    "            if 0 < nx < rows and 0 < ny < cols and maze[nx][ny] == 1:\n",
    "                maze[nx - dx//2][ny - dy//2] = 0\n",
    "                maze[nx][ny] = 0\n",
    "                carve_path(nx, ny)\n",
    "    \n",
    "    maze[1][1] = 0\n",
    "    carve_path(1, 1)\n",
    "    return maze\n",
    "\n",
    "def solve_maze(maze, x, y, path):\n",
    "    if x == len(maze) - 2 and y == len(maze[0]) - 2:\n",
    "        path.append((x, y))\n",
    "        return True\n",
    "    \n",
    "    if maze[x][y] == 0:\n",
    "        maze[x][y] = 2\n",
    "        path.append((x, y))\n",
    "        for dx, dy in [(0, 1), (1, 0), (0, -1), (-1, 0)]:\n",
    "            if solve_maze(maze, x + dx, y + dy, path):\n",
    "                return True\n",
    "        path.pop()\n",
    "        maze[x][y] = 0\n",
    "    return False\n",
    "\n",
    "def print_maze(maze):\n",
    "    for row in maze:\n",
    "        print(\" \".join(\"#\" if cell == 1 else \".\" if cell == 0 else \"*\" for cell in row))\n",
    "\n",
    "# Example usage\n",
    "rows, cols = 11, 11  # Maze size should be odd\n",
    "maze = generate_maze(rows, cols)\n",
    "print(\"Generated Maze:\")\n",
    "print_maze(maze)\n",
    "\n",
    "path = []\n",
    "if solve_maze(maze, 1, 1, path):\n",
    "    print(\"\\nSolved Maze:\")\n",
    "    for x, y in path:\n",
    "        maze[x][y] = '*'\n",
    "    print_maze(maze)\n",
    "else:\n",
    "    print(\"\\nNo solution found.\")\n"
   ]
  }
 ],
 "metadata": {
  "kernelspec": {
   "display_name": "Python 3",
   "language": "python",
   "name": "python3"
  },
  "language_info": {
   "codemirror_mode": {
    "name": "ipython",
    "version": 3
   },
   "file_extension": ".py",
   "mimetype": "text/x-python",
   "name": "python",
   "nbconvert_exporter": "python",
   "pygments_lexer": "ipython3",
   "version": "3.11.0"
  }
 },
 "nbformat": 4,
 "nbformat_minor": 2
}
