{
 "cells": [
  {
   "cell_type": "markdown",
   "metadata": {},
   "source": [
    "### code 1 : Count Inversions"
   ]
  },
  {
   "cell_type": "code",
   "execution_count": 1,
   "metadata": {},
   "outputs": [
    {
     "name": "stdout",
     "output_type": "stream",
     "text": [
      "3\n"
     ]
    }
   ],
   "source": [
    "def merge_and_count(arr, temp_arr, left, mid, right):\n",
    "    i = left    \n",
    "    j = mid + 1 \n",
    "    k = left    \n",
    "    inv_count = 0\n",
    "\n",
    "    while i <= mid and j <= right:\n",
    "        if arr[i] <= arr[j]:\n",
    "            temp_arr[k] = arr[i]\n",
    "            i += 1\n",
    "        else:\n",
    "            temp_arr[k] = arr[j]\n",
    "            inv_count += (mid - i + 1)  \n",
    "            j += 1\n",
    "        k += 1\n",
    "\n",
    "    while i <= mid:\n",
    "        temp_arr[k] = arr[i]\n",
    "        i += 1\n",
    "        k += 1\n",
    "\n",
    "    while j <= right:\n",
    "        temp_arr[k] = arr[j]\n",
    "        j += 1\n",
    "        k += 1\n",
    "\n",
    "    for i in range(left, right + 1):\n",
    "        arr[i] = temp_arr[i]\n",
    "\n",
    "    return inv_count\n",
    "\n",
    "def merge_sort_and_count(arr, temp_arr, left, right):\n",
    "    inv_count = 0\n",
    "    if left < right:\n",
    "        mid = (left + right) // 2\n",
    "\n",
    "        inv_count += merge_sort_and_count(arr, temp_arr, left, mid)\n",
    "        inv_count += merge_sort_and_count(arr, temp_arr, mid + 1, right)\n",
    "        inv_count += merge_and_count(arr, temp_arr, left, mid, right)\n",
    "\n",
    "    return inv_count\n",
    "\n",
    "def count_inversions(arr):\n",
    "    temp_arr = arr.copy()\n",
    "    return merge_sort_and_count(arr, temp_arr, 0, len(arr) - 1)\n",
    "\n",
    "arr = [2, 4, 1, 3, 5]\n",
    "print(count_inversions(arr))  \n"
   ]
  },
  {
   "cell_type": "markdown",
   "metadata": {},
   "source": [
    "### code 2 : Find the Longest Palindromic Substring"
   ]
  },
  {
   "cell_type": "code",
   "execution_count": 2,
   "metadata": {},
   "outputs": [
    {
     "name": "stdout",
     "output_type": "stream",
     "text": [
      "bab\n"
     ]
    }
   ],
   "source": [
    "def longest_palindromic_substring(s):\n",
    "    if not s:\n",
    "        return \"\"\n",
    "\n",
    "    start, max_length = 0, 1\n",
    "\n",
    "    def expand_around_center(left, right):\n",
    "        nonlocal start, max_length\n",
    "        while left >= 0 and right < len(s) and s[left] == s[right]:\n",
    "            current_length = right - left + 1\n",
    "            if current_length > max_length:\n",
    "                start, max_length = left, current_length\n",
    "            left -= 1\n",
    "            right += 1\n",
    "\n",
    "    for i in range(len(s)):\n",
    "        expand_around_center(i, i)     \n",
    "        expand_around_center(i, i + 1) \n",
    "\n",
    "    return s[start:start + max_length]\n",
    "\n",
    "# Example Usage\n",
    "s = \"babad\"\n",
    "print(longest_palindromic_substring(s))  \n"
   ]
  },
  {
   "cell_type": "markdown",
   "metadata": {},
   "source": [
    "### code 3 :  Traveling Salesman Problem (TSP)"
   ]
  },
  {
   "cell_type": "code",
   "execution_count": 3,
   "metadata": {},
   "outputs": [
    {
     "name": "stdout",
     "output_type": "stream",
     "text": [
      "Shortest Route: (0, 1, 3, 2, 0)\n",
      "Total Distance: 80\n"
     ]
    }
   ],
   "source": [
    "from itertools import permutations\n",
    "\n",
    "def tsp_brute_force(graph):\n",
    "    n = len(graph)\n",
    "    cities = range(n)\n",
    "    min_path = float('inf')\n",
    "    best_route = []\n",
    "\n",
    "    for perm in permutations(cities[1:]):  \n",
    "        route = (0,) + perm + (0,)\n",
    "        cost = sum(graph[route[i]][route[i + 1]] for i in range(n))\n",
    "        \n",
    "        if cost < min_path:\n",
    "            min_path = cost\n",
    "            best_route = route\n",
    "\n",
    "    return best_route, min_path\n",
    "\n",
    "# Example usage\n",
    "graph = [\n",
    "    [0, 10, 15, 20],\n",
    "    [10, 0, 35, 25],\n",
    "    [15, 35, 0, 30],\n",
    "    [20, 25, 30, 0]\n",
    "]\n",
    "\n",
    "route, cost = tsp_brute_force(graph)\n",
    "print(\"Shortest Route:\", route)\n",
    "print(\"Total Distance:\", cost)\n"
   ]
  },
  {
   "cell_type": "markdown",
   "metadata": {},
   "source": [
    "### code 4 : Graph Cycle Detection"
   ]
  },
  {
   "cell_type": "code",
   "execution_count": 4,
   "metadata": {},
   "outputs": [
    {
     "name": "stdout",
     "output_type": "stream",
     "text": [
      "True\n"
     ]
    }
   ],
   "source": [
    "def has_cycle(graph, node, visited, parent):\n",
    "    visited[node] = True  \n",
    "\n",
    "    for neighbor in graph[node]:\n",
    "        if not visited[neighbor]:  \n",
    "            if has_cycle(graph, neighbor, visited, node):\n",
    "                return True\n",
    "        elif neighbor != parent:  \n",
    "            return True\n",
    "\n",
    "    return False\n",
    "\n",
    "def detect_cycle(graph, n):\n",
    "    visited = [False] * n\n",
    "\n",
    "    for node in range(n):  \n",
    "        if not visited[node]:  \n",
    "            if has_cycle(graph, node, visited, -1):  \n",
    "                return True\n",
    "    return False\n",
    "\n",
    "# Example Usage\n",
    "graph = {\n",
    "    0: [1, 2],\n",
    "    1: [0, 3],\n",
    "    2: [0, 3],\n",
    "    3: [1, 2]\n",
    "}\n",
    "\n",
    "n = 4  \n",
    "print(detect_cycle(graph, n))  \n"
   ]
  },
  {
   "cell_type": "markdown",
   "metadata": {},
   "source": [
    "### code 5 : Longest Substring Without Repeating Characters"
   ]
  },
  {
   "cell_type": "code",
   "execution_count": 5,
   "metadata": {},
   "outputs": [
    {
     "name": "stdout",
     "output_type": "stream",
     "text": [
      "3\n"
     ]
    }
   ],
   "source": [
    "def length_of_longest_substring(s):\n",
    "    char_set = set()\n",
    "    left = 0\n",
    "    max_length = 0\n",
    "\n",
    "    for right in range(len(s)):\n",
    "        while s[right] in char_set:  \n",
    "            char_set.remove(s[left])\n",
    "            left += 1\n",
    "        char_set.add(s[right])  \n",
    "        max_length = max(max_length, right - left + 1)  \n",
    "\n",
    "    return max_length\n",
    "\n",
    "# Example Usage\n",
    "s = \"abcabcbb\"\n",
    "print(length_of_longest_substring(s))  \n"
   ]
  },
  {
   "cell_type": "markdown",
   "metadata": {},
   "source": [
    "### code 6 : Find All Valid Parentheses Combinations"
   ]
  },
  {
   "cell_type": "code",
   "execution_count": 6,
   "metadata": {},
   "outputs": [
    {
     "name": "stdout",
     "output_type": "stream",
     "text": [
      "['((()))', '(()())', '(())()', '()(())', '()()()']\n"
     ]
    }
   ],
   "source": [
    "def generate_parentheses(n):\n",
    "    result = []\n",
    "\n",
    "    def backtrack(current, open_count, close_count):\n",
    "        if len(current) == 2 * n:  \n",
    "            result.append(current)\n",
    "            return\n",
    "        \n",
    "        if open_count < n:  \n",
    "            backtrack(current + \"(\", open_count + 1, close_count)\n",
    "        \n",
    "        if close_count < open_count:  \n",
    "            backtrack(current + \")\", open_count, close_count + 1)\n",
    "\n",
    "    backtrack(\"\", 0, 0)\n",
    "    return result\n",
    "\n",
    "# Example Usage\n",
    "n = 3\n",
    "print(generate_parentheses(n))\n"
   ]
  },
  {
   "cell_type": "markdown",
   "metadata": {},
   "source": [
    "### code 7 : Zigzag Level Order Traversal of Binary Tree"
   ]
  },
  {
   "cell_type": "code",
   "execution_count": 7,
   "metadata": {},
   "outputs": [
    {
     "name": "stdout",
     "output_type": "stream",
     "text": [
      "[[1], [3, 2], [4, 5, 6, 7]]\n"
     ]
    }
   ],
   "source": [
    "from collections import deque\n",
    "\n",
    "class TreeNode:\n",
    "    def __init__(self, val=0, left=None, right=None):\n",
    "        self.val = val\n",
    "        self.left = left\n",
    "        self.right = right\n",
    "\n",
    "def zigzag_level_order(root):\n",
    "    if not root:\n",
    "        return []\n",
    "    \n",
    "    result = []\n",
    "    queue = deque([root])\n",
    "    left_to_right = True  \n",
    "\n",
    "    while queue:\n",
    "        level_size = len(queue)\n",
    "        level_nodes = deque()\n",
    "\n",
    "        for _ in range(level_size):\n",
    "            node = queue.popleft()\n",
    "            if left_to_right:\n",
    "                level_nodes.append(node.val)  \n",
    "            else:\n",
    "                level_nodes.appendleft(node.val)  \n",
    "\n",
    "            if node.left:\n",
    "                queue.append(node.left)\n",
    "            if node.right:\n",
    "                queue.append(node.right)\n",
    "\n",
    "        result.append(list(level_nodes))\n",
    "        left_to_right = not left_to_right  \n",
    "\n",
    "    return result\n",
    "\n",
    "# Example Usage:\n",
    "root = TreeNode(1)\n",
    "root.left = TreeNode(2)\n",
    "root.right = TreeNode(3)\n",
    "root.left.left = TreeNode(4)\n",
    "root.left.right = TreeNode(5)\n",
    "root.right.left = TreeNode(6)\n",
    "root.right.right = TreeNode(7)\n",
    "\n",
    "print(zigzag_level_order(root))\n"
   ]
  },
  {
   "cell_type": "markdown",
   "metadata": {},
   "source": [
    "### code 8 : Palindrome Partitioning"
   ]
  },
  {
   "cell_type": "code",
   "execution_count": 8,
   "metadata": {},
   "outputs": [
    {
     "name": "stdout",
     "output_type": "stream",
     "text": [
      "[['a', 'a', 'b'], ['aa', 'b']]\n"
     ]
    }
   ],
   "source": [
    "def is_palindrome(s, left, right):\n",
    "    while left < right:\n",
    "        if s[left] != s[right]:\n",
    "            return False\n",
    "        left += 1\n",
    "        right -= 1\n",
    "    return True\n",
    "\n",
    "def backtrack(start, path, result, s):\n",
    "    if start == len(s):\n",
    "        result.append(path[:])  \n",
    "        return\n",
    "    \n",
    "    for end in range(start, len(s)):\n",
    "        if is_palindrome(s, start, end):\n",
    "            path.append(s[start:end + 1])  \n",
    "            backtrack(end + 1, path, result, s)  \n",
    "            path.pop()  \n",
    "\n",
    "def partition(s):\n",
    "    result = []\n",
    "    backtrack(0, [], result, s)\n",
    "    return result\n",
    "\n",
    "# Example Usage:\n",
    "s = \"aab\"\n",
    "print(partition(s))\n"
   ]
  },
  {
   "cell_type": "markdown",
   "metadata": {},
   "source": [
    "### code 9 : Personal Budget Advisor"
   ]
  },
  {
   "cell_type": "code",
   "execution_count": 9,
   "metadata": {},
   "outputs": [
    {
     "name": "stdout",
     "output_type": "stream",
     "text": [
      "No previous data found. Starting fresh.\n",
      "\n",
      "=== Personal Budget Advisor ===\n",
      "1. Add Income\n",
      "2. Add Expense\n",
      "3. View Summary\n",
      "4. Save & Exit\n",
      "Added income: home - ₹2000.0\n",
      "\n",
      "=== Personal Budget Advisor ===\n",
      "1. Add Income\n",
      "2. Add Expense\n",
      "3. View Summary\n",
      "4. Save & Exit\n",
      "Categories: Food, Rent, Entertainment, Utilities, Others\n",
      "Added expense: Others - ₹181.0\n",
      "\n",
      "=== Personal Budget Advisor ===\n",
      "1. Add Income\n",
      "2. Add Expense\n",
      "3. View Summary\n",
      "4. Save & Exit\n",
      "Data saved successfully!\n",
      "Goodbye!\n"
     ]
    }
   ],
   "source": [
    "import json\n",
    "\n",
    "class BudgetAdvisor:\n",
    "    def __init__(self):\n",
    "        self.data = {\"income\": [], \"expenses\": []}\n",
    "        self.categories = [\"Food\", \"Rent\", \"Entertainment\", \"Utilities\", \"Others\"]\n",
    "        self.load_data()\n",
    "\n",
    "    def add_income(self):\n",
    "        try:\n",
    "            amount = float(input(\"Enter income amount: \"))\n",
    "            source = input(\"Enter income source: \")\n",
    "            self.data[\"income\"].append({\"amount\": amount, \"source\": source})\n",
    "            print(f\"Added income: {source} - ₹{amount}\")\n",
    "        except ValueError:\n",
    "            print(\"Invalid input! Please enter a numeric value.\")\n",
    "\n",
    "    def add_expense(self):\n",
    "        try:\n",
    "            amount = float(input(\"Enter expense amount: \"))\n",
    "            print(\"Categories:\", \", \".join(self.categories))\n",
    "            category = input(\"Enter expense category: \").capitalize()\n",
    "            if category not in self.categories:\n",
    "                category = \"Others\"  # Default category\n",
    "            self.data[\"expenses\"].append({\"amount\": amount, \"category\": category})\n",
    "            print(f\"Added expense: {category} - ₹{amount}\")\n",
    "        except ValueError:\n",
    "            print(\"Invalid input! Please enter a numeric value.\")\n",
    "\n",
    "    def view_summary(self):\n",
    "        total_income = sum(i[\"amount\"] for i in self.data[\"income\"])\n",
    "        total_expense = sum(e[\"amount\"] for e in self.data[\"expenses\"])\n",
    "        balance = total_income - total_expense\n",
    "        print(\"\\n=== Monthly Summary ===\")\n",
    "        print(f\"Total Income: ₹{total_income}\")\n",
    "        print(f\"Total Expenses: ₹{total_expense}\")\n",
    "        print(f\"Remaining Balance: ₹{balance}\")\n",
    "        \n",
    "        if total_income > 0:\n",
    "            savings_percentage = (balance / total_income) * 100\n",
    "            print(f\"Savings Rate: {savings_percentage:.2f}%\")\n",
    "        \n",
    "        self.analyze_expenses()\n",
    "\n",
    "    def analyze_expenses(self):\n",
    "        category_expense = {cat: 0 for cat in self.categories}\n",
    "        for e in self.data[\"expenses\"]:\n",
    "            category_expense[e[\"category\"]] += e[\"amount\"]\n",
    "        \n",
    "        print(\"\\n=== Expense Breakdown ===\")\n",
    "        for category, amount in category_expense.items():\n",
    "            print(f\"{category}: ₹{amount}\")\n",
    "        \n",
    "        if self.data[\"expenses\"]:\n",
    "            self.suggest_savings(category_expense)\n",
    "\n",
    "    def suggest_savings(self, category_expense):\n",
    "        total_expense = sum(category_expense.values())\n",
    "        print(\"\\n=== Savings Suggestions ===\")\n",
    "        for category, amount in category_expense.items():\n",
    "            if amount > total_expense * 0.4:\n",
    "                print(f\"⚠️ You are overspending on {category}. Try reducing it by 10%.\")\n",
    "            elif amount < total_expense * 0.1:\n",
    "                print(f\"✅ Good job on managing {category} expenses.\")\n",
    "\n",
    "    def save_data(self):\n",
    "        with open(\"budget_data.json\", \"w\") as file:\n",
    "            json.dump(self.data, file)\n",
    "        print(\"Data saved successfully!\")\n",
    "\n",
    "    def load_data(self):\n",
    "        try:\n",
    "            with open(\"budget_data.json\", \"r\") as file:\n",
    "                self.data = json.load(file)\n",
    "            print(\"Previous data loaded.\")\n",
    "        except FileNotFoundError:\n",
    "            print(\"No previous data found. Starting fresh.\")\n",
    "\n",
    "    def run(self):\n",
    "        while True:\n",
    "            print(\"\\n=== Personal Budget Advisor ===\")\n",
    "            print(\"1. Add Income\")\n",
    "            print(\"2. Add Expense\")\n",
    "            print(\"3. View Summary\")\n",
    "            print(\"4. Save & Exit\")\n",
    "            choice = input(\"Enter your choice: \")\n",
    "\n",
    "            if choice == \"1\":\n",
    "                self.add_income()\n",
    "            elif choice == \"2\":\n",
    "                self.add_expense()\n",
    "            elif choice == \"3\":\n",
    "                self.view_summary()\n",
    "            elif choice == \"4\":\n",
    "                self.save_data()\n",
    "                print(\"Goodbye!\")\n",
    "                break\n",
    "            else:\n",
    "                print(\"Invalid choice. Please try again.\")\n",
    "\n",
    "# Start the budget tracker\n",
    "budget = BudgetAdvisor()\n",
    "budget.run()\n"
   ]
  },
  {
   "cell_type": "code",
   "execution_count": null,
   "metadata": {},
   "outputs": [],
   "source": []
  }
 ],
 "metadata": {
  "kernelspec": {
   "display_name": "Python 3",
   "language": "python",
   "name": "python3"
  },
  "language_info": {
   "codemirror_mode": {
    "name": "ipython",
    "version": 3
   },
   "file_extension": ".py",
   "mimetype": "text/x-python",
   "name": "python",
   "nbconvert_exporter": "python",
   "pygments_lexer": "ipython3",
   "version": "3.11.0"
  }
 },
 "nbformat": 4,
 "nbformat_minor": 2
}
